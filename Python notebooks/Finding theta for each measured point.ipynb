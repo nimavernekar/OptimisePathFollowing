{
 "cells": [
  {
   "cell_type": "code",
   "execution_count": null,
   "id": "fc3b70e9",
   "metadata": {},
   "outputs": [],
   "source": []
  },
  {
   "cell_type": "code",
   "execution_count": null,
   "id": "cc913816",
   "metadata": {},
   "outputs": [],
   "source": []
  },
  {
   "cell_type": "code",
   "execution_count": null,
   "id": "be26e4a7",
   "metadata": {},
   "outputs": [],
   "source": [
    "import numpy as np \n",
    "import pandas as pd\n",
    "import matplotlib.pyplot as plt"
   ]
  },
  {
   "cell_type": "code",
   "execution_count": null,
   "id": "efc27e80",
   "metadata": {},
   "outputs": [],
   "source": [
    "selected_data3 = pd.read_csv('C:/Optimal Control/optitrap_alg_final/Levitator_Data/selected_data3.csv')\n",
    "selected_data3"
   ]
  },
  {
   "cell_type": "code",
   "execution_count": 1,
   "id": "2b64ab38",
   "metadata": {},
   "outputs": [],
   "source": [
    "# commented below is the logic for taking mirror image of the fish along the horizontal line passing through the z coordinate 119.4"
   ]
  },
  {
   "cell_type": "code",
   "execution_count": null,
   "id": "b478225d",
   "metadata": {},
   "outputs": [],
   "source": [
    "# shift_value = 4\n",
    "# condition = mirror_data['measured_z'] > 119.4\n",
    "# mirror_data.loc[condition, 'measured_y'] = mirror_data.loc[condition, 'measured_y'] - shift_value\n",
    "# mirror_data = pd.read_csv('C:/Optimal Control/optitrap_alg_final/Levitator_Data/selected_data3.csv')\n"
   ]
  },
  {
   "cell_type": "code",
   "execution_count": null,
   "id": "0a749e93",
   "metadata": {},
   "outputs": [],
   "source": [
    "# mirror_line = 119.4\n",
    "# mask = mirror_data['measured_z'] > mirror_line\n",
    "# mirror_data.loc[mask, 'measured_z'] = mirror_line - (mirror_data.loc[mask, 'measured_z'] - mirror_line)\n"
   ]
  },
  {
   "cell_type": "code",
   "execution_count": null,
   "id": "3c302102",
   "metadata": {},
   "outputs": [],
   "source": [
    "# angle =7.2\n",
    "# angle_rad = np.radians(angle)\n",
    "# rotation_matrix = np.array([[np.cos(angle_rad), -np.sin(angle_rad)], \n",
    "#                             [np.sin(angle_rad), np.cos(angle_rad)]])\n",
    "# mirror_data[['measured_y', 'measured_z']] = np.dot(mirror_data[['measured_y', 'measured_z']], rotation_matrix.T)\n"
   ]
  },
  {
   "cell_type": "code",
   "execution_count": null,
   "id": "9eb7c242",
   "metadata": {},
   "outputs": [],
   "source": [
    "# shift_y = -11.5\n",
    "# shift_z = -6.2\n",
    "\n",
    "# mirror_data['measured_y'] = mirror_data['measured_y'] - shift_y\n",
    "# mirror_data['measured_z'] = mirror_data['measured_z'] - shift_z\n",
    "\n"
   ]
  },
  {
   "cell_type": "code",
   "execution_count": null,
   "id": "74609b69",
   "metadata": {},
   "outputs": [],
   "source": [
    "# plt.figure(figsize=(11, 7))\n",
    "# plt.scatter(mirror_data['measured_y'], mirror_data['measured_z'], color='orange', s=0.1)\n",
    "# plt.scatter(blue_df['bead_y'], blue_df['bead_z'], color='blue', s=0.1)\n",
    "# plt.scatter(selected_data3['measured_y'], selected_data3['measured_z'], color='purple', s=0.1)\n",
    "\n",
    "# plt.xlabel('measured_y')\n",
    "# plt.ylabel('measured_z')\n",
    "# plt.title('mirrored Data Plot')\n",
    "# # plt.xlim(-50,-35)\n",
    "# # plt.ylim(95,110)\n",
    "# plt.grid(True)\n",
    "# plt.show()\n"
   ]
  },
  {
   "cell_type": "markdown",
   "id": "1c65cfce",
   "metadata": {},
   "source": [
    "# finding theta"
   ]
  },
  {
   "cell_type": "markdown",
   "id": "f23cd900",
   "metadata": {},
   "source": [
    "# Plotting in batches"
   ]
  },
  {
   "cell_type": "code",
   "execution_count": null,
   "id": "074ab0e4",
   "metadata": {},
   "outputs": [],
   "source": [
    "blue_df = pd.read_csv('C:/Optimal Control/optitrap_alg_final/Levitator_Data/beadsAndTraps7.csv')\n",
    "blue_df"
   ]
  },
  {
   "cell_type": "code",
   "execution_count": null,
   "id": "05e4405d",
   "metadata": {},
   "outputs": [],
   "source": [
    "import os \n",
    "os.chdir(\"C:/Optimal Control/optitrap_alg_final/Levitator_Data/mirror_image\")"
   ]
  },
  {
   "cell_type": "code",
   "execution_count": null,
   "id": "75e6e7fe",
   "metadata": {
    "scrolled": false
   },
   "outputs": [],
   "source": [
    "import pandas as pd\n",
    "import numpy as np\n",
    "import matplotlib.pyplot as plt\n",
    "\n",
    "# Assuming your dataframe is named df\n",
    "plt.figure(figsize=(11, 10))\n",
    "\n",
    "# Chunk size\n",
    "chunk_size = 24\n",
    "start_idx = 0\n",
    "end_idx = len(selected_data3)\n",
    "\n",
    "num_cycles = (end_idx - start_idx) // chunk_size\n",
    "\n",
    "colors = plt.cm.viridis(np.linspace(0, 1, num_cycles))\n",
    " \n",
    "\n",
    "selected_points = []\n",
    "\n",
    "# Plotting\n",
    "cycle_count = 0\n",
    "for i in range(num_cycles):\n",
    "    cycle_start_idx = start_idx + i * chunk_size\n",
    "    cycle_end_idx = min(start_idx + (i + 1) * chunk_size, end_idx)\n",
    "    \n",
    "    cycle_count += 1\n",
    "        # Select only 14th, 15th, and 16th points of each cycle\n",
    "    selected_indices = range(cycle_start_idx +19, cycle_start_idx + 24)\n",
    "#     selected_indices=list(range(cycle_start_idx+0, cycle_start_idx + 9)) + list(range(cycle_start_idx + 19, cycle_start_idx + 24))\n",
    "    selected_points.extend(selected_indices)\n",
    "\n",
    "\n",
    "# Create a DataFrame from the selected points\n",
    "selected_rows = selected_data3.iloc[selected_points]\n",
    "# subset0_8, subset8_11, subset11_16, subset16_19, subset19_24 \n",
    "# Save the selected points to CSV\n",
    "\n",
    "selected_rows.to_csv('subset8_11.csv', index=True)\n",
    "\n",
    "# Plotting the selected points\n",
    "plt.scatter(selected_rows['measured_y'], selected_rows['measured_z'], color='blue', s=1)\n",
    "plt.xlabel('Bead Y')\n",
    "plt.ylabel('Bead Z')\n",
    "plt.title('Selected Bead Movement')\n",
    "plt.grid(True)\n",
    "plt.xlim(-50,50)\n",
    "plt.ylim(95,150)\n",
    "plt.show()\n"
   ]
  },
  {
   "cell_type": "markdown",
   "id": "dcc4d595",
   "metadata": {},
   "source": [
    "# change file location before next line"
   ]
  },
  {
   "cell_type": "markdown",
   "id": "e8f8658e",
   "metadata": {},
   "source": [
    "# check range before next line"
   ]
  },
  {
   "cell_type": "code",
   "execution_count": null,
   "id": "543cbf9d",
   "metadata": {
    "scrolled": false
   },
   "outputs": [],
   "source": [
    "import matplotlib.pyplot as plt\n",
    "plt.figure(figsize=(10, 6))\n",
    "\n",
    "# #7880 END FOR STRAIGHT\n",
    "# plt.plot(blue_df.iloc[3300:5200]['bead_y'], blue_df.iloc[3300:5200]['bead_z']) \n",
    "# plt.plot(blue_df.iloc[5200:7880]['bead_y'], blue_df.iloc[5200:7880]['bead_z'])\n",
    "# plt.plot(blue_df.iloc[7880:9730]['bead_y'], blue_df.iloc[7880:9730]['bead_z']) \n",
    "# plt.plot(blue_df.iloc[0:3300]['bead_y'], blue_df.iloc[0:3300]['bead_z'])\n",
    "# plt.plot(blue_df.iloc[4150:]['bead_y'], blue_df.iloc[4150:]['bead_z'])\n",
    "# plt.plot(blue_df.iloc[2217:3568]['bead_y'], blue_df.iloc[2217:3568]['bead_z'], color='skyblue')\n",
    "\n",
    "# plt.plot(blue_df.iloc[3568:4150]['bead_y'], blue_df.iloc[3568:4150]['bead_z'], color='black')\n",
    "\n",
    "#-------------------------------------------------------------------------------------------------------------\n",
    "# # 3rd dataframe \n",
    "# plt.scatter(subset0_8['measured_y'], subset0_8['measured_z'], color='orange',s=1)\n",
    "# plt.scatter(subset19_24['measured_y'], subset19_24['measured_z'], color='orange',s=1)\n",
    "\n",
    "\n",
    "\n",
    "plt.plot(blue_df['bead_y'], blue_df['bead_z'],label=' simulation',color='skyblue') \n",
    "plt.plot(blue_df['traps_y'], blue_df['traps_z'],label=' traps',color='red') \n",
    "\n",
    "\n",
    "\n",
    "plt.xlabel('bead_y')\n",
    "plt.ylabel('bead_z')\n",
    "plt.title('Plot of bead y vs z, measured, traps and simulation data')\n",
    "# plt.xlim(-46,-40)\n",
    "# plt.ylim(98, 101.5)\n",
    "plt.grid(True)\n",
    "plt.legend()\n",
    "\n",
    "plt.show()\n"
   ]
  },
  {
   "cell_type": "code",
   "execution_count": null,
   "id": "259d8584",
   "metadata": {},
   "outputs": [],
   "source": [
    "    import numpy as np\n",
    "\n",
    "# Concatenate the desired ranges\n",
    "subset_df = pd.concat([blue_df.iloc[:2730], blue_df.iloc[9050:]])\n",
    "\n",
    "# Calculate distances\n",
    "distances = np.sqrt((startnose0['measured_y'].values[:, None] - subset_df['bead_y'].values) ** 2 +\n",
    "                    (startnose0['measured_z'].values[:, None] - subset_df['bead_z'].values) ** 2)\n",
    "\n",
    "# Find nearest indices\n",
    "nearest_indices = np.argmin(distances, axis=1)\n",
    "\n",
    "# Adjust indices to the original DataFrame range\n",
    "nearest_indices_adjusted = np.where(nearest_indices < 2730, nearest_indices, nearest_indices + 9050)\n",
    "\n",
    "# Get nearest rows\n",
    "nearest_rows = subset_df.iloc[nearest_indices]\n",
    "\n",
    "# Print nearest rows\n",
    "print(nearest_rows)\n"
   ]
  },
  {
   "cell_type": "code",
   "execution_count": null,
   "id": "76ef6cbf",
   "metadata": {},
   "outputs": [],
   "source": [
    "start_index = 7140  # Starting index of the subset\n",
    "end_index = 9050  # Ending index of the subset\n",
    "\n",
    "distances = np.sqrt((endnose['measured_y'].values[:, None] - blue_df.iloc[start_index:end_index]['bead_y'].values) ** 2 +\n",
    "                    (endnose['measured_z'].values[:, None] - blue_df.iloc[start_index:end_index]['bead_z'].values) ** 2)\n",
    "\n",
    "print(\"Distances:\", distances)\n",
    "nearest_indices = np.argmin(distances, axis=1)\n",
    "print(\"Nearest indices within subset range:\", nearest_indices)\n",
    "\n",
    "# Adjust the indices to be within the original DataFrame range\n",
    "nearest_indices_adjusted = nearest_indices + start_index\n",
    "\n",
    "for i, idx in enumerate(nearest_indices_adjusted):\n",
    "    print(f\"{idx}\")\n",
    "\n",
    "nearest_rows = blue_df.iloc[nearest_indices_adjusted]\n",
    "print(nearest_rows)\n"
   ]
  },
  {
   "cell_type": "code",
   "execution_count": null,
   "id": "5b925d8c",
   "metadata": {},
   "outputs": [],
   "source": [
    "nearest_rows.to_csv('endnose_7_bluedf.csv', index=True)"
   ]
  },
  {
   "cell_type": "code",
   "execution_count": null,
   "id": "81689d5c",
   "metadata": {
    "scrolled": false
   },
   "outputs": [],
   "source": [
    "import matplotlib.pyplot as plt\n",
    "\n",
    "\n",
    "plt.scatter(endnose['measured_y'], endnose['measured_z'], color='orange',s=1)\n",
    "plt.scatter(nearest_rows['bead_y'], nearest_rows['bead_z'], color='blue', s=0.3)\n",
    "# plt.plot(blue_df.iloc[1519:2217]['bead_y'], blue_df.iloc[1519:2217]['bead_z'])\n",
    "plt.xlabel('bead_y')\n",
    "plt.ylabel('bead_z')\n",
    "plt.title('Plot of bead y vs z after sorting theta')\n",
    "plt.xlim(-50,50)\n",
    "plt.ylim(95, 145)\n",
    "plt.show()\n"
   ]
  },
  {
   "cell_type": "code",
   "execution_count": null,
   "id": "b9d9cc2a",
   "metadata": {},
   "outputs": [],
   "source": [
    "#ordering by bluedf order before adding theta\n",
    "import pandas as pd\n",
    "result_concat=  pd.read_csv('C:/Optimal Control/optitrap_alg_final/Levitator_Data/mirror_image/data_mirror_new.csv')\n",
    "result_concat"
   ]
  },
  {
   "cell_type": "code",
   "execution_count": null,
   "id": "338d38d5",
   "metadata": {},
   "outputs": [],
   "source": [
    "result_concat_sorted = result_concat.sort_values(by=['theta','measured_y','measured_z'], ascending=True)\n",
    "result_concat_sorted.to_csv('data_mirror_new_theta.csv', index=False)\n",
    "result_concat_sorted"
   ]
  },
  {
   "cell_type": "code",
   "execution_count": null,
   "id": "0af8eab4",
   "metadata": {},
   "outputs": [],
   "source": [
    "import matplotlib.pyplot as plt\n",
    "plt.figure(figsize=(10, 6))\n",
    "\n",
    "plt.scatter(result_concat_sorted['traps_y'], result_concat_sorted['traps_z'], color='green',s=1, label ='selected traps')\n",
    "plt.scatter(result_concat_sorted['bead_y'], result_concat_sorted['bead_z'], color='blue',s=1, label='selected simulation')\n",
    "plt.scatter(result_concat_sorted['measured_y'], \n",
    "            result_concat_sorted['measured_z'], color='orange',s=0.5, label='measured traps')\n",
    "\n",
    " \n",
    "# plt.plot(blue_df.iloc[2520:3680]['bead_y'], blue_df.iloc[2520:3680]['bead_z'], label='OG simulation',color='skyblue') \n",
    "# plt.plot(blue_df.iloc[3680:4630]['bead_y'], blue_df.iloc[3680:4630]['bead_z'],color='skyblue') \n",
    "\n",
    "# plt.plot(blue_df.iloc[2520:3680]['traps_y'], blue_df.iloc[2520:3680]['traps_z'], color='red') \n",
    "# plt.plot(blue_df.iloc[3680:4630]['traps_y'], blue_df.iloc[3680:4630]['traps_z'],color='red',label='OG traps') \n",
    "\n",
    "\n",
    "plt.xlabel('bead_y')\n",
    "plt.ylabel('bead_z')\n",
    "plt.xlim(-46,-38)\n",
    "plt.ylim(97, 101.5)\n",
    "plt.legend()\n",
    "plt.grid(True)\n",
    "plt.show()\n"
   ]
  },
  {
   "cell_type": "code",
   "execution_count": null,
   "id": "5cf7b4f6",
   "metadata": {},
   "outputs": [],
   "source": [
    "result_concat1=  pd.read_csv('C:/Optimal Control/optitrap_alg_final/Levitator_Data/data_mirrored_tail_theta.csv')\n",
    "result_concat1"
   ]
  },
  {
   "cell_type": "code",
   "execution_count": null,
   "id": "de6cdbae",
   "metadata": {},
   "outputs": [],
   "source": [
    "plt.figure(figsize=(10, 6))\n",
    "# plt.scatter(result_concat1['traps_y'], result_concat1['traps_z'], color='green', label='traps',s=1)\n",
    "# plt.scatter(result_concat1['bead_y'], result_concat1['bead_z'], color='blue', label='beads',s=1)\n",
    "plt.plot(result_concat1.iloc[3500:5000]['measured_y'], \n",
    "         result_concat1.iloc[3500:5000]['measured_z'], color='blue', label='beads',lw=1)\n",
    "\n",
    "\n",
    "plt.xlabel('bead_y')\n",
    "plt.ylabel('bead_z')\n",
    "plt.legend()\n",
    "plt.grid(True)\n",
    "plt.show()"
   ]
  },
  {
   "cell_type": "code",
   "execution_count": null,
   "id": "f2850319",
   "metadata": {},
   "outputs": [],
   "source": []
  },
  {
   "cell_type": "code",
   "execution_count": null,
   "id": "d421d7d5",
   "metadata": {},
   "outputs": [],
   "source": []
  },
  {
   "cell_type": "code",
   "execution_count": null,
   "id": "e649809a",
   "metadata": {},
   "outputs": [],
   "source": []
  },
  {
   "cell_type": "code",
   "execution_count": null,
   "id": "61decd87",
   "metadata": {},
   "outputs": [],
   "source": []
  },
  {
   "cell_type": "code",
   "execution_count": null,
   "id": "7e00a981",
   "metadata": {},
   "outputs": [],
   "source": [
    "import pandas as pd"
   ]
  },
  {
   "cell_type": "code",
   "execution_count": null,
   "id": "61aaf625",
   "metadata": {},
   "outputs": [],
   "source": [
    "result_concat=  pd.read_csv('C:/Optimal Control/optitrap_alg_final/Levitator_Data/new_concatenated_data_7.csv')\n"
   ]
  },
  {
   "cell_type": "code",
   "execution_count": null,
   "id": "01e7dc68",
   "metadata": {},
   "outputs": [],
   "source": [
    "result_concat_sorted = result_concat.sort_values(by=['theta', 'bead_z','bead_y'], ascending=True)\n"
   ]
  },
  {
   "cell_type": "code",
   "execution_count": null,
   "id": "d24cf386",
   "metadata": {},
   "outputs": [],
   "source": [
    "import matplotlib.pyplot as plt\n",
    "plt.figure(figsize=(10, 6))\n",
    "\n",
    "plt.plot(result_concat_sorted['measured_y'], result_concat_sorted['measured_z'])\n",
    "# plt.plot(blue_df['bead_y'], blue_df['bead_z'])\n",
    "\n",
    "plt.xlabel('bead_y')\n",
    "plt.ylabel('bead_z')\n",
    "plt.title('Plot of bead y vs z after sorting theta')\n",
    "\n",
    "plt.show()\n"
   ]
  },
  {
   "cell_type": "code",
   "execution_count": null,
   "id": "eeb84d0e",
   "metadata": {},
   "outputs": [],
   "source": []
  },
  {
   "cell_type": "code",
   "execution_count": null,
   "id": "0a0dc622",
   "metadata": {},
   "outputs": [],
   "source": []
  },
  {
   "cell_type": "code",
   "execution_count": null,
   "id": "cf597392",
   "metadata": {},
   "outputs": [],
   "source": []
  },
  {
   "cell_type": "code",
   "execution_count": null,
   "id": "cd7662f2",
   "metadata": {},
   "outputs": [],
   "source": [
    "result_concat_theta=  pd.read_csv('C:/Optimal Control/optitrap_alg_final/Levitator_Data/new_concatenated_data_7.csv')\n"
   ]
  },
  {
   "cell_type": "code",
   "execution_count": null,
   "id": "f505cbf8",
   "metadata": {},
   "outputs": [],
   "source": [
    "result_concat_theta = result_concat_theta.sort_values(by='theta', ascending=True)\n"
   ]
  },
  {
   "cell_type": "code",
   "execution_count": null,
   "id": "d70056b3",
   "metadata": {},
   "outputs": [],
   "source": [
    "import matplotlib.pyplot as plt\n",
    "plt.figure(figsize=(10, 6))\n",
    "\n",
    "\n",
    "plt.plot(result_concat_theta['measured_y'], result_concat_theta['measured_z'])\n",
    "# plt.plot(blue_df['bead_y'], blue_df['bead_z'])\n",
    "\n",
    "plt.xlabel('bead_y')\n",
    "plt.ylabel('bead_z')\n",
    "plt.title('Plot of bead y vs z after sorting theta')\n",
    "\n",
    "plt.show()\n"
   ]
  }
 ],
 "metadata": {
  "kernelspec": {
   "display_name": "Python 3 (ipykernel)",
   "language": "python",
   "name": "python3"
  },
  "language_info": {
   "codemirror_mode": {
    "name": "ipython",
    "version": 3
   },
   "file_extension": ".py",
   "mimetype": "text/x-python",
   "name": "python",
   "nbconvert_exporter": "python",
   "pygments_lexer": "ipython3",
   "version": "3.9.8"
  }
 },
 "nbformat": 4,
 "nbformat_minor": 5
}
